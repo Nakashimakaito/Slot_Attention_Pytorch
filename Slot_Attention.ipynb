{
 "cells": [
  {
   "cell_type": "code",
   "execution_count": 1,
   "id": "9ac1465a-b84d-4470-be18-e9bd71d36906",
   "metadata": {
    "tags": []
   },
   "outputs": [],
   "source": [
    "from dataset import *\n",
    "from model import *\n",
    "from tqdm import tqdm\n",
    "import time\n",
    "import datetime\n",
    "import torch.optim as optim\n",
    "import torch\n",
    "import torch.nn as nn\n",
    "import torchvision\n",
    "from torch.utils.tensorboard import SummaryWriter\n",
    "import numpy as np\n",
    "from omegaconf import OmegaConf"
   ]
  },
  {
   "cell_type": "code",
   "execution_count": 2,
   "id": "9d6da1ce-7885-4a67-9a94-8adbd64e1827",
   "metadata": {},
   "outputs": [],
   "source": [
    "cfg = OmegaConf.load(\"conf/config.yaml\")"
   ]
  },
  {
   "cell_type": "code",
   "execution_count": 3,
   "id": "41bd0f9f-763b-4dcb-8df7-21b43c4e5688",
   "metadata": {
    "tags": []
   },
   "outputs": [],
   "source": [
    "resolution = cfg.model.resolution\n",
    "device = torch.device(\"cuda:0\" if torch.cuda.is_available() else \"cpu\")"
   ]
  },
  {
   "cell_type": "code",
   "execution_count": 4,
   "id": "683a7c41-f5b9-4ce8-8f28-af92ebef1d65",
   "metadata": {
    "tags": []
   },
   "outputs": [],
   "source": [
    "if cfg.dataset.clevr:\n",
    "    train_set = CLEVR(cfg.dataset.clevr_path, 'train')\n",
    "    test_set = CLEVR(cfg.dataset.clevr_path, 'test')\n",
    "    val_set = CLEVR(cfg.dataset.clevr_path, \"val\")\n",
    "else:\n",
    "    MY = MyDataset(cfg.dataset.my_path, cfg.dataset.train_rate, cfg.dataset.test_rate)\n",
    "    test_set = MY.get_split_data(\"test\")\n",
    "    train_set = MY.get_split_data(\"train\")\n",
    "    val_set = MY.get_split_data(\"val\")"
   ]
  },
  {
   "cell_type": "code",
   "execution_count": 5,
   "id": "ff0ec1b0-49e8-4f58-b13a-61f5a346acba",
   "metadata": {},
   "outputs": [],
   "source": [
    "def renormalize(x):\n",
    "    return x / 2. + 0.5\n",
    "\n",
    "\n",
    "def get_prediction(model2, batch, idx=0):\n",
    "    recon_combined, recons, masks, slots = model2(batch[\"image\"].to(device))\n",
    "    image = renormalize(batch[\"image\"].to(device))[idx]\n",
    "    recon_combined = renormalize(recon_combined)[idx]\n",
    "    recons = renormalize(recons)[idx]\n",
    "    masks = masks[idx]\n",
    "    return image, recon_combined, recons, masks, slots"
   ]
  },
  {
   "cell_type": "code",
   "execution_count": 6,
   "id": "9907e73d-e435-45c4-bc20-55498c27e93d",
   "metadata": {},
   "outputs": [],
   "source": [
    "model = SlotAttentionAutoEncoder(cfg.model.resolution, cfg.slot.num_slots, cfg.slot.num_iterations, cfg.model.hid_dim).to(device)\n",
    "\n",
    "criterion = nn.MSELoss()\n",
    "\n",
    "params = [{'params': model.parameters()}]\n",
    "\n",
    "train_dataloader = torch.utils.data.DataLoader(train_set,\n",
    "                                               batch_size=cfg.dataset.batch_size,\n",
    "                                               shuffle=True,\n",
    "                                               num_workers=cfg.dataset.num_workers)\n",
    "\n",
    "test_dataloader = torch.utils.data.DataLoader(test_set,\n",
    "                                              batch_size=cfg.dataset.batch_size,\n",
    "                                              shuffle=True,\n",
    "                                              num_workers=cfg.dataset.num_workers)\n",
    "\n",
    "optimizer = optim.Adam(params, lr=cfg.optim.learning_rate)\n"
   ]
  },
  {
   "cell_type": "code",
   "execution_count": null,
   "id": "7b016fc7-bf14-484f-a181-241875de0602",
   "metadata": {
    "tags": []
   },
   "outputs": [
    {
     "name": "stderr",
     "output_type": "stream",
     "text": [
      "100%|███████████████████████████████████████| 4375/4375 [10:48<00:00,  6.75it/s]\n"
     ]
    },
    {
     "name": "stdout",
     "output_type": "stream",
     "text": [
      "Epoch: 0, Loss: 1.2774966580308282e-06, Time: 0:10:48.686520\n"
     ]
    },
    {
     "name": "stderr",
     "output_type": "stream",
     "text": [
      "100%|███████████████████████████████████████| 4375/4375 [10:46<00:00,  6.76it/s]"
     ]
    },
    {
     "name": "stdout",
     "output_type": "stream",
     "text": [
      "Epoch: 1, Loss: 9.516004337700822e-07, Time: 0:21:37.495470\n"
     ]
    },
    {
     "name": "stderr",
     "output_type": "stream",
     "text": [
      "\n",
      "100%|███████████████████████████████████████| 4375/4375 [10:46<00:00,  6.76it/s]"
     ]
    },
    {
     "name": "stdout",
     "output_type": "stream",
     "text": [
      "Epoch: 2, Loss: 5.249217398295097e-07, Time: 0:32:24.558441\n"
     ]
    },
    {
     "name": "stderr",
     "output_type": "stream",
     "text": [
      "\n",
      "100%|███████████████████████████████████████| 4375/4375 [10:46<00:00,  6.77it/s]"
     ]
    },
    {
     "name": "stdout",
     "output_type": "stream",
     "text": [
      "Epoch: 3, Loss: 5.466615756732831e-07, Time: 0:43:11.288498\n"
     ]
    },
    {
     "name": "stderr",
     "output_type": "stream",
     "text": [
      "\n",
      "100%|███████████████████████████████████████| 4375/4375 [10:46<00:00,  6.77it/s]"
     ]
    },
    {
     "name": "stdout",
     "output_type": "stream",
     "text": [
      "Epoch: 4, Loss: 5.397559888750917e-07, Time: 0:53:57.825908\n"
     ]
    },
    {
     "name": "stderr",
     "output_type": "stream",
     "text": [
      "\n",
      "100%|███████████████████████████████████████| 4375/4375 [10:46<00:00,  6.77it/s]"
     ]
    },
    {
     "name": "stdout",
     "output_type": "stream",
     "text": [
      "Epoch: 5, Loss: 5.518607120426999e-07, Time: 1:04:44.190604\n"
     ]
    },
    {
     "name": "stderr",
     "output_type": "stream",
     "text": [
      "\n",
      "100%|███████████████████████████████████████| 4375/4375 [10:45<00:00,  6.77it/s]"
     ]
    },
    {
     "name": "stdout",
     "output_type": "stream",
     "text": [
      "Epoch: 6, Loss: 4.423916929122698e-07, Time: 1:15:30.270784\n"
     ]
    },
    {
     "name": "stderr",
     "output_type": "stream",
     "text": [
      "\n",
      "100%|███████████████████████████████████████| 4375/4375 [10:45<00:00,  6.77it/s]"
     ]
    },
    {
     "name": "stdout",
     "output_type": "stream",
     "text": [
      "Epoch: 7, Loss: 4.444095597799197e-07, Time: 1:26:16.392487\n"
     ]
    },
    {
     "name": "stderr",
     "output_type": "stream",
     "text": [
      "\n",
      "100%|███████████████████████████████████████| 4375/4375 [10:45<00:00,  6.78it/s]"
     ]
    },
    {
     "name": "stdout",
     "output_type": "stream",
     "text": [
      "Epoch: 8, Loss: 5.799007680411204e-07, Time: 1:37:02.212963\n"
     ]
    },
    {
     "name": "stderr",
     "output_type": "stream",
     "text": [
      "\n",
      "100%|███████████████████████████████████████| 4375/4375 [10:45<00:00,  6.78it/s]"
     ]
    },
    {
     "name": "stdout",
     "output_type": "stream",
     "text": [
      "Epoch: 9, Loss: 3.7857332921934764e-07, Time: 1:47:47.920225\n"
     ]
    },
    {
     "name": "stderr",
     "output_type": "stream",
     "text": [
      "\n",
      "100%|███████████████████████████████████████| 4375/4375 [10:45<00:00,  6.78it/s]\n"
     ]
    },
    {
     "name": "stdout",
     "output_type": "stream",
     "text": [
      "Epoch: 10, Loss: 3.056296122111416e-07, Time: 1:58:33.551721\n"
     ]
    },
    {
     "name": "stderr",
     "output_type": "stream",
     "text": [
      "100%|███████████████████████████████████████| 4375/4375 [10:45<00:00,  6.78it/s]"
     ]
    },
    {
     "name": "stdout",
     "output_type": "stream",
     "text": [
      "Epoch: 11, Loss: 2.844614772873598e-07, Time: 2:09:21.154374\n"
     ]
    },
    {
     "name": "stderr",
     "output_type": "stream",
     "text": [
      "\n",
      "100%|███████████████████████████████████████| 4375/4375 [10:45<00:00,  6.78it/s]"
     ]
    },
    {
     "name": "stdout",
     "output_type": "stream",
     "text": [
      "Epoch: 12, Loss: 4.2413528275932784e-07, Time: 2:20:06.660335\n"
     ]
    },
    {
     "name": "stderr",
     "output_type": "stream",
     "text": [
      "\n",
      "100%|███████████████████████████████████████| 4375/4375 [10:44<00:00,  6.78it/s]"
     ]
    },
    {
     "name": "stdout",
     "output_type": "stream",
     "text": [
      "Epoch: 13, Loss: 3.214089901404727e-07, Time: 2:30:51.826728\n"
     ]
    },
    {
     "name": "stderr",
     "output_type": "stream",
     "text": [
      "\n",
      "100%|███████████████████████████████████████| 4375/4375 [10:44<00:00,  6.78it/s]"
     ]
    },
    {
     "name": "stdout",
     "output_type": "stream",
     "text": [
      "Epoch: 14, Loss: 3.7804890757278224e-07, Time: 2:41:36.994688\n"
     ]
    },
    {
     "name": "stderr",
     "output_type": "stream",
     "text": [
      "\n",
      "100%|███████████████████████████████████████| 4375/4375 [10:44<00:00,  6.79it/s]"
     ]
    },
    {
     "name": "stdout",
     "output_type": "stream",
     "text": [
      "Epoch: 15, Loss: 4.700899743020361e-07, Time: 2:52:21.881604\n"
     ]
    },
    {
     "name": "stderr",
     "output_type": "stream",
     "text": [
      "\n",
      "100%|███████████████████████████████████████| 4375/4375 [10:44<00:00,  6.79it/s]"
     ]
    },
    {
     "name": "stdout",
     "output_type": "stream",
     "text": [
      "Epoch: 16, Loss: 2.9751378246691106e-07, Time: 3:03:06.606550\n"
     ]
    },
    {
     "name": "stderr",
     "output_type": "stream",
     "text": [
      "\n",
      "100%|███████████████████████████████████████| 4375/4375 [10:44<00:00,  6.79it/s]"
     ]
    },
    {
     "name": "stdout",
     "output_type": "stream",
     "text": [
      "Epoch: 17, Loss: 3.086757526069257e-07, Time: 3:13:51.395877\n"
     ]
    },
    {
     "name": "stderr",
     "output_type": "stream",
     "text": [
      "\n",
      "100%|███████████████████████████████████████| 4375/4375 [10:44<00:00,  6.79it/s]"
     ]
    },
    {
     "name": "stdout",
     "output_type": "stream",
     "text": [
      "Epoch: 18, Loss: 3.3068326709516234e-07, Time: 3:24:36.005747\n"
     ]
    },
    {
     "name": "stderr",
     "output_type": "stream",
     "text": [
      "\n",
      "100%|███████████████████████████████████████| 4375/4375 [10:44<00:00,  6.79it/s]"
     ]
    },
    {
     "name": "stdout",
     "output_type": "stream",
     "text": [
      "Epoch: 19, Loss: 3.5583861994792723e-07, Time: 3:35:20.438764\n"
     ]
    },
    {
     "name": "stderr",
     "output_type": "stream",
     "text": [
      "\n",
      "100%|███████████████████████████████████████| 4375/4375 [10:44<00:00,  6.79it/s]\n"
     ]
    },
    {
     "name": "stdout",
     "output_type": "stream",
     "text": [
      "Epoch: 20, Loss: 2.7393936063200176e-07, Time: 3:46:04.858970\n"
     ]
    },
    {
     "name": "stderr",
     "output_type": "stream",
     "text": [
      "100%|███████████████████████████████████████| 4375/4375 [10:44<00:00,  6.79it/s]"
     ]
    },
    {
     "name": "stdout",
     "output_type": "stream",
     "text": [
      "Epoch: 21, Loss: 2.6099202087207027e-07, Time: 3:56:51.914613\n"
     ]
    },
    {
     "name": "stderr",
     "output_type": "stream",
     "text": [
      "\n",
      "100%|███████████████████████████████████████| 4375/4375 [10:44<00:00,  6.79it/s]"
     ]
    },
    {
     "name": "stdout",
     "output_type": "stream",
     "text": [
      "Epoch: 22, Loss: 2.0516937880931438e-07, Time: 4:07:36.232115\n"
     ]
    },
    {
     "name": "stderr",
     "output_type": "stream",
     "text": [
      "\n",
      "100%|███████████████████████████████████████| 4375/4375 [10:44<00:00,  6.79it/s]"
     ]
    },
    {
     "name": "stdout",
     "output_type": "stream",
     "text": [
      "Epoch: 23, Loss: 2.649304846577937e-07, Time: 4:18:20.601394\n"
     ]
    },
    {
     "name": "stderr",
     "output_type": "stream",
     "text": [
      "\n",
      "100%|███████████████████████████████████████| 4375/4375 [10:44<00:00,  6.79it/s]"
     ]
    },
    {
     "name": "stdout",
     "output_type": "stream",
     "text": [
      "Epoch: 24, Loss: 2.828700889703788e-07, Time: 4:29:04.951268\n"
     ]
    },
    {
     "name": "stderr",
     "output_type": "stream",
     "text": [
      "\n",
      "100%|███████████████████████████████████████| 4375/4375 [10:44<00:00,  6.79it/s]"
     ]
    },
    {
     "name": "stdout",
     "output_type": "stream",
     "text": [
      "Epoch: 25, Loss: 3.239697686522734e-07, Time: 4:39:49.311702\n"
     ]
    },
    {
     "name": "stderr",
     "output_type": "stream",
     "text": [
      "\n",
      "100%|███████████████████████████████████████| 4375/4375 [10:43<00:00,  6.80it/s]"
     ]
    },
    {
     "name": "stdout",
     "output_type": "stream",
     "text": [
      "Epoch: 26, Loss: 3.0232180588289146e-07, Time: 4:50:33.293007\n"
     ]
    },
    {
     "name": "stderr",
     "output_type": "stream",
     "text": [
      "\n",
      "100%|███████████████████████████████████████| 4375/4375 [10:43<00:00,  6.79it/s]"
     ]
    },
    {
     "name": "stdout",
     "output_type": "stream",
     "text": [
      "Epoch: 27, Loss: 3.0003308343202855e-07, Time: 5:01:17.404605\n"
     ]
    },
    {
     "name": "stderr",
     "output_type": "stream",
     "text": [
      "\n",
      "100%|███████████████████████████████████████| 4375/4375 [10:43<00:00,  6.79it/s]"
     ]
    },
    {
     "name": "stdout",
     "output_type": "stream",
     "text": [
      "Epoch: 28, Loss: 2.562719231768952e-07, Time: 5:12:01.567157\n"
     ]
    },
    {
     "name": "stderr",
     "output_type": "stream",
     "text": [
      "\n",
      "100%|███████████████████████████████████████| 4375/4375 [10:44<00:00,  6.79it/s]"
     ]
    },
    {
     "name": "stdout",
     "output_type": "stream",
     "text": [
      "Epoch: 29, Loss: 2.5732854770411785e-07, Time: 5:22:45.811787\n"
     ]
    },
    {
     "name": "stderr",
     "output_type": "stream",
     "text": [
      "\n",
      "100%|███████████████████████████████████████| 4375/4375 [10:44<00:00,  6.79it/s]\n"
     ]
    },
    {
     "name": "stdout",
     "output_type": "stream",
     "text": [
      "Epoch: 30, Loss: 4.899761419349347e-07, Time: 5:33:30.109163\n"
     ]
    },
    {
     "name": "stderr",
     "output_type": "stream",
     "text": [
      "100%|███████████████████████████████████████| 4375/4375 [10:43<00:00,  6.79it/s]"
     ]
    },
    {
     "name": "stdout",
     "output_type": "stream",
     "text": [
      "Epoch: 31, Loss: 2.3479893823609481e-07, Time: 5:44:17.155084\n"
     ]
    },
    {
     "name": "stderr",
     "output_type": "stream",
     "text": [
      "\n",
      "100%|███████████████████████████████████████| 4375/4375 [10:43<00:00,  6.80it/s]"
     ]
    },
    {
     "name": "stdout",
     "output_type": "stream",
     "text": [
      "Epoch: 32, Loss: 2.7732936493875103e-07, Time: 5:55:01.128663\n"
     ]
    },
    {
     "name": "stderr",
     "output_type": "stream",
     "text": [
      "\n",
      "100%|███████████████████████████████████████| 4375/4375 [10:44<00:00,  6.79it/s]"
     ]
    },
    {
     "name": "stdout",
     "output_type": "stream",
     "text": [
      "Epoch: 33, Loss: 2.6972498084242855e-07, Time: 6:05:45.357135\n"
     ]
    },
    {
     "name": "stderr",
     "output_type": "stream",
     "text": [
      "\n",
      "100%|███████████████████████████████████████| 4375/4375 [10:43<00:00,  6.80it/s]"
     ]
    },
    {
     "name": "stdout",
     "output_type": "stream",
     "text": [
      "Epoch: 34, Loss: 2.5916665802815454e-07, Time: 6:16:29.209535\n"
     ]
    },
    {
     "name": "stderr",
     "output_type": "stream",
     "text": [
      "\n",
      "100%|███████████████████████████████████████| 4375/4375 [10:43<00:00,  6.80it/s]"
     ]
    },
    {
     "name": "stdout",
     "output_type": "stream",
     "text": [
      "Epoch: 35, Loss: 2.1639592059107857e-07, Time: 6:27:13.077522\n"
     ]
    },
    {
     "name": "stderr",
     "output_type": "stream",
     "text": [
      "\n",
      "100%|███████████████████████████████████████| 4375/4375 [10:43<00:00,  6.80it/s]"
     ]
    },
    {
     "name": "stdout",
     "output_type": "stream",
     "text": [
      "Epoch: 36, Loss: 2.3728171605973961e-07, Time: 6:37:57.169584\n"
     ]
    },
    {
     "name": "stderr",
     "output_type": "stream",
     "text": [
      "\n",
      "100%|███████████████████████████████████████| 4375/4375 [10:43<00:00,  6.80it/s]"
     ]
    },
    {
     "name": "stdout",
     "output_type": "stream",
     "text": [
      "Epoch: 37, Loss: 2.552734480899691e-07, Time: 6:48:41.119636\n"
     ]
    },
    {
     "name": "stderr",
     "output_type": "stream",
     "text": [
      "\n",
      "100%|███████████████████████████████████████| 4375/4375 [10:43<00:00,  6.80it/s]"
     ]
    },
    {
     "name": "stdout",
     "output_type": "stream",
     "text": [
      "Epoch: 38, Loss: 2.4650919165424733e-07, Time: 6:59:25.067071\n"
     ]
    },
    {
     "name": "stderr",
     "output_type": "stream",
     "text": [
      "\n",
      "100%|███████████████████████████████████████| 4375/4375 [10:43<00:00,  6.79it/s]"
     ]
    },
    {
     "name": "stdout",
     "output_type": "stream",
     "text": [
      "Epoch: 39, Loss: 2.523721033884323e-07, Time: 7:10:09.139818\n"
     ]
    },
    {
     "name": "stderr",
     "output_type": "stream",
     "text": [
      "\n",
      "100%|███████████████████████████████████████| 4375/4375 [10:43<00:00,  6.80it/s]\n"
     ]
    },
    {
     "name": "stdout",
     "output_type": "stream",
     "text": [
      "Epoch: 40, Loss: 2.413705793540796e-07, Time: 7:20:52.933437\n"
     ]
    },
    {
     "name": "stderr",
     "output_type": "stream",
     "text": [
      "100%|███████████████████████████████████████| 4375/4375 [10:43<00:00,  6.80it/s]"
     ]
    },
    {
     "name": "stdout",
     "output_type": "stream",
     "text": [
      "Epoch: 41, Loss: 2.484467404650256e-07, Time: 7:31:38.461882\n"
     ]
    },
    {
     "name": "stderr",
     "output_type": "stream",
     "text": [
      "\n",
      "100%|███████████████████████████████████████| 4375/4375 [10:43<00:00,  6.80it/s]"
     ]
    },
    {
     "name": "stdout",
     "output_type": "stream",
     "text": [
      "Epoch: 42, Loss: 3.134096648830857e-07, Time: 7:42:22.056506\n"
     ]
    },
    {
     "name": "stderr",
     "output_type": "stream",
     "text": [
      "\n",
      "100%|███████████████████████████████████████| 4375/4375 [10:43<00:00,  6.80it/s]"
     ]
    },
    {
     "name": "stdout",
     "output_type": "stream",
     "text": [
      "Epoch: 43, Loss: 2.6585907963441536e-07, Time: 7:53:05.802538\n"
     ]
    },
    {
     "name": "stderr",
     "output_type": "stream",
     "text": [
      "\n",
      "100%|███████████████████████████████████████| 4375/4375 [10:43<00:00,  6.80it/s]"
     ]
    },
    {
     "name": "stdout",
     "output_type": "stream",
     "text": [
      "Epoch: 44, Loss: 2.3720468019257285e-07, Time: 8:03:49.357177\n"
     ]
    },
    {
     "name": "stderr",
     "output_type": "stream",
     "text": [
      "\n",
      "100%|███████████████████████████████████████| 4375/4375 [10:43<00:00,  6.80it/s]"
     ]
    },
    {
     "name": "stdout",
     "output_type": "stream",
     "text": [
      "Epoch: 45, Loss: 3.2020264290799346e-07, Time: 8:14:33.063773\n"
     ]
    },
    {
     "name": "stderr",
     "output_type": "stream",
     "text": [
      "\n",
      "100%|███████████████████████████████████████| 4375/4375 [10:43<00:00,  6.80it/s]"
     ]
    },
    {
     "name": "stdout",
     "output_type": "stream",
     "text": [
      "Epoch: 46, Loss: 2.1204647486023024e-07, Time: 8:25:16.660650\n"
     ]
    },
    {
     "name": "stderr",
     "output_type": "stream",
     "text": [
      "\n",
      "100%|███████████████████████████████████████| 4375/4375 [10:43<00:00,  6.80it/s]"
     ]
    },
    {
     "name": "stdout",
     "output_type": "stream",
     "text": [
      "Epoch: 47, Loss: 2.526607452747274e-07, Time: 8:36:00.323829\n"
     ]
    },
    {
     "name": "stderr",
     "output_type": "stream",
     "text": [
      "\n",
      "100%|███████████████████████████████████████| 4375/4375 [10:43<00:00,  6.80it/s]"
     ]
    },
    {
     "name": "stdout",
     "output_type": "stream",
     "text": [
      "Epoch: 48, Loss: 3.884043984830495e-07, Time: 8:46:43.899647\n"
     ]
    },
    {
     "name": "stderr",
     "output_type": "stream",
     "text": [
      "\n",
      "100%|███████████████████████████████████████| 4375/4375 [10:43<00:00,  6.80it/s]"
     ]
    },
    {
     "name": "stdout",
     "output_type": "stream",
     "text": [
      "Epoch: 49, Loss: 2.902341982953537e-07, Time: 8:57:27.517787\n"
     ]
    },
    {
     "name": "stderr",
     "output_type": "stream",
     "text": [
      "\n",
      "100%|███████████████████████████████████████| 4375/4375 [10:43<00:00,  6.80it/s]\n"
     ]
    },
    {
     "name": "stdout",
     "output_type": "stream",
     "text": [
      "Epoch: 50, Loss: 2.4314053156243397e-07, Time: 9:08:11.064798\n"
     ]
    },
    {
     "name": "stderr",
     "output_type": "stream",
     "text": [
      "100%|███████████████████████████████████████| 4375/4375 [10:43<00:00,  6.80it/s]"
     ]
    },
    {
     "name": "stdout",
     "output_type": "stream",
     "text": [
      "Epoch: 51, Loss: 1.926954810335253e-07, Time: 9:18:56.954073\n"
     ]
    },
    {
     "name": "stderr",
     "output_type": "stream",
     "text": [
      "\n",
      "100%|███████████████████████████████████████| 4375/4375 [10:43<00:00,  6.80it/s]"
     ]
    },
    {
     "name": "stdout",
     "output_type": "stream",
     "text": [
      "Epoch: 52, Loss: 1.7586543931354388e-07, Time: 9:29:40.410250\n"
     ]
    },
    {
     "name": "stderr",
     "output_type": "stream",
     "text": [
      "\n",
      "100%|███████████████████████████████████████| 4375/4375 [10:43<00:00,  6.80it/s]"
     ]
    },
    {
     "name": "stdout",
     "output_type": "stream",
     "text": [
      "Epoch: 53, Loss: 2.350906565695793e-07, Time: 9:40:23.826104\n"
     ]
    },
    {
     "name": "stderr",
     "output_type": "stream",
     "text": [
      "\n",
      "100%|███████████████████████████████████████| 4375/4375 [10:43<00:00,  6.80it/s]"
     ]
    },
    {
     "name": "stdout",
     "output_type": "stream",
     "text": [
      "Epoch: 54, Loss: 3.297301566749191e-07, Time: 9:51:07.293274\n"
     ]
    },
    {
     "name": "stderr",
     "output_type": "stream",
     "text": [
      "\n",
      "100%|███████████████████████████████████████| 4375/4375 [10:43<00:00,  6.80it/s]"
     ]
    },
    {
     "name": "stdout",
     "output_type": "stream",
     "text": [
      "Epoch: 55, Loss: 2.6083336203851724e-07, Time: 10:01:50.803868\n"
     ]
    },
    {
     "name": "stderr",
     "output_type": "stream",
     "text": [
      "\n",
      "100%|███████████████████████████████████████| 4375/4375 [10:43<00:00,  6.80it/s]"
     ]
    },
    {
     "name": "stdout",
     "output_type": "stream",
     "text": [
      "Epoch: 56, Loss: 1.8251504280510247e-07, Time: 10:12:34.404357\n"
     ]
    },
    {
     "name": "stderr",
     "output_type": "stream",
     "text": [
      "\n",
      "100%|███████████████████████████████████████| 4375/4375 [10:43<00:00,  6.80it/s]"
     ]
    },
    {
     "name": "stdout",
     "output_type": "stream",
     "text": [
      "Epoch: 57, Loss: 2.074412583013273e-07, Time: 10:23:17.925549\n"
     ]
    },
    {
     "name": "stderr",
     "output_type": "stream",
     "text": [
      "\n",
      "100%|███████████████████████████████████████| 4375/4375 [10:43<00:00,  6.80it/s]"
     ]
    },
    {
     "name": "stdout",
     "output_type": "stream",
     "text": [
      "Epoch: 58, Loss: 2.8835624937269357e-07, Time: 10:34:01.515049\n"
     ]
    },
    {
     "name": "stderr",
     "output_type": "stream",
     "text": [
      "\n",
      "100%|███████████████████████████████████████| 4375/4375 [10:43<00:00,  6.80it/s]"
     ]
    },
    {
     "name": "stdout",
     "output_type": "stream",
     "text": [
      "Epoch: 59, Loss: 2.600143143330045e-07, Time: 10:44:45.117117\n"
     ]
    },
    {
     "name": "stderr",
     "output_type": "stream",
     "text": [
      "\n",
      "100%|███████████████████████████████████████| 4375/4375 [10:43<00:00,  6.80it/s]\n"
     ]
    },
    {
     "name": "stdout",
     "output_type": "stream",
     "text": [
      "Epoch: 60, Loss: 3.4599724095823715e-07, Time: 10:55:28.470087\n"
     ]
    },
    {
     "name": "stderr",
     "output_type": "stream",
     "text": [
      "100%|███████████████████████████████████████| 4375/4375 [10:43<00:00,  6.80it/s]"
     ]
    },
    {
     "name": "stdout",
     "output_type": "stream",
     "text": [
      "Epoch: 61, Loss: 2.5595016235208567e-07, Time: 11:06:14.200975\n"
     ]
    },
    {
     "name": "stderr",
     "output_type": "stream",
     "text": [
      "\n",
      "100%|███████████████████████████████████████| 4375/4375 [10:43<00:00,  6.80it/s]"
     ]
    },
    {
     "name": "stdout",
     "output_type": "stream",
     "text": [
      "Epoch: 62, Loss: 2.2788705842076137e-07, Time: 11:16:57.722028\n"
     ]
    },
    {
     "name": "stderr",
     "output_type": "stream",
     "text": [
      "\n",
      "100%|███████████████████████████████████████| 4375/4375 [10:43<00:00,  6.80it/s]"
     ]
    },
    {
     "name": "stdout",
     "output_type": "stream",
     "text": [
      "Epoch: 63, Loss: 1.9391193849088387e-07, Time: 11:27:41.236904\n"
     ]
    },
    {
     "name": "stderr",
     "output_type": "stream",
     "text": [
      "\n",
      "100%|███████████████████████████████████████| 4375/4375 [10:43<00:00,  6.80it/s]"
     ]
    },
    {
     "name": "stdout",
     "output_type": "stream",
     "text": [
      "Epoch: 64, Loss: 2.2675515996121372e-07, Time: 11:38:24.690821\n"
     ]
    },
    {
     "name": "stderr",
     "output_type": "stream",
     "text": [
      "\n",
      "100%|███████████████████████████████████████| 4375/4375 [10:43<00:00,  6.80it/s]"
     ]
    },
    {
     "name": "stdout",
     "output_type": "stream",
     "text": [
      "Epoch: 65, Loss: 3.0038297294284034e-07, Time: 11:49:07.960386\n"
     ]
    },
    {
     "name": "stderr",
     "output_type": "stream",
     "text": [
      "\n",
      "100%|███████████████████████████████████████| 4375/4375 [10:43<00:00,  6.80it/s]"
     ]
    },
    {
     "name": "stdout",
     "output_type": "stream",
     "text": [
      "Epoch: 66, Loss: 2.556795414636817e-07, Time: 11:59:51.386515\n"
     ]
    },
    {
     "name": "stderr",
     "output_type": "stream",
     "text": [
      "\n",
      "100%|███████████████████████████████████████| 4375/4375 [10:43<00:00,  6.80it/s]"
     ]
    },
    {
     "name": "stdout",
     "output_type": "stream",
     "text": [
      "Epoch: 67, Loss: 2.7940739916188205e-07, Time: 12:10:34.828976\n"
     ]
    },
    {
     "name": "stderr",
     "output_type": "stream",
     "text": [
      "\n",
      "100%|███████████████████████████████████████| 4375/4375 [10:43<00:00,  6.80it/s]"
     ]
    },
    {
     "name": "stdout",
     "output_type": "stream",
     "text": [
      "Epoch: 68, Loss: 2.4545200610543013e-07, Time: 12:21:18.337697\n"
     ]
    },
    {
     "name": "stderr",
     "output_type": "stream",
     "text": [
      "\n",
      "100%|███████████████████████████████████████| 4375/4375 [10:43<00:00,  6.80it/s]"
     ]
    },
    {
     "name": "stdout",
     "output_type": "stream",
     "text": [
      "Epoch: 69, Loss: 2.1377653620490035e-07, Time: 12:32:01.723006\n"
     ]
    },
    {
     "name": "stderr",
     "output_type": "stream",
     "text": [
      "\n",
      " 50%|███████████████████▌                   | 2199/4375 [05:23<05:20,  6.78it/s]"
     ]
    }
   ],
   "source": [
    "start = time.time()\n",
    "writer2 = SummaryWriter(cfg.tensorboard.logs_path)\n",
    "for epoch in range(cfg.param.num_epochs):\n",
    "    model.train()\n",
    "\n",
    "    total_loss = 0\n",
    "\n",
    "    for i, sample in tqdm(enumerate(train_dataloader, 1),\n",
    "                          total=len(train_dataloader)):\n",
    "        \n",
    "        if i < cfg.param.warmup_steps:\n",
    "            #学習率のWarmup\n",
    "            learning_rate = cfg.optim.learning_rate * (i / cfg.param.warmup_steps)\n",
    "        else:\n",
    "            # ウォームアップ後の学習率\n",
    "            learning_rate = cfg.optim.learning_rate\n",
    "        # 指数的な学習率減衰\n",
    "        learning_rate = learning_rate * (cfg.param.decay_rate ** (\n",
    "            i / cfg.param.decay_steps))\n",
    "\n",
    "        optimizer.param_groups[0]['lr'] = learning_rate\n",
    "        image = sample['image'].to(device)\n",
    "        recon_combined, recons, masks, slots = model(image)\n",
    "        loss = criterion(recon_combined, image)\n",
    "        total_loss += loss.item()\n",
    "\n",
    "        del recons, masks, slots\n",
    "\n",
    "        optimizer.zero_grad()\n",
    "        loss.backward()\n",
    "        optimizer.step()\n",
    "\n",
    "        total_loss /= len(train_dataloader)\n",
    "\n",
    "    print(\"Epoch: {}, Loss: {}, Time: {}\". format(epoch, total_loss, datetime.timedelta(seconds=time. time() - start)))\n",
    "    writer2.add_scalar(\"loss\", total_loss, epoch)\n",
    "    writer2.add_scalar(\"lr\", learning_rate, epoch)\n",
    "    if not epoch % 10:\n",
    "        torch.save({\n",
    "            'model_state_dict': model.state_dict(),\n",
    "            }, cfg.model.model_dir)\n",
    "        writer = SummaryWriter(cfg.tensorboard.img_path+str(epoch))\n",
    "        dataiter = iter(test_dataloader)\n",
    "        images = next(dataiter)\n",
    "        model.eval()\n",
    "        image, recon_combined, recons, masks, slots = get_prediction(model, images)\n",
    "        num_slots = len(masks)\n",
    "        image = torchvision.utils.make_grid(image.to(\"cpu\"), nrow=1)\n",
    "        writer.add_image('Slot_images', image)\n",
    "        writer.add_image('Recon', recon_combined.to(\"cpu\").detach().numpy())\n",
    "        for i in range(num_slots):\n",
    "            s_m = np.clip((recons[i].to(\"cpu\").detach().numpy()*masks[i].to(\"cpu\").detach().numpy())+(1-masks[i].to(\"cpu\").detach().numpy()),0, 1)\n",
    "            writer.add_image('Slot '+str(i+1), torch.from_numpy(s_m.astype(np.float32)).permute(2,0,1))"
   ]
  },
  {
   "cell_type": "code",
   "execution_count": null,
   "id": "8306d2ad-6561-4082-9f4f-3f9063ac1109",
   "metadata": {},
   "outputs": [],
   "source": []
  }
 ],
 "metadata": {
  "kernelspec": {
   "display_name": "Python [conda env:root] *",
   "language": "python",
   "name": "conda-root-py"
  },
  "language_info": {
   "codemirror_mode": {
    "name": "ipython",
    "version": 3
   },
   "file_extension": ".py",
   "mimetype": "text/x-python",
   "name": "python",
   "nbconvert_exporter": "python",
   "pygments_lexer": "ipython3",
   "version": "3.10.10"
  }
 },
 "nbformat": 4,
 "nbformat_minor": 5
}
